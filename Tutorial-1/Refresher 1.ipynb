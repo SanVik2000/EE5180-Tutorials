{
 "cells": [
  {
   "cell_type": "markdown",
   "id": "69266db9",
   "metadata": {
    "id": "1FAJEA3VMcT6"
   },
   "source": [
    "# print() \n",
    "\n",
    "The print() function prints the specified message to the screen."
   ]
  },
  {
   "cell_type": "code",
   "execution_count": null,
   "id": "d41266ce",
   "metadata": {
    "colab": {
     "base_uri": "https://localhost:8080/"
    },
    "id": "On6-iOynMmOk",
    "outputId": "bfe73b9b-c51f-4b08-9222-9fe70408e6d1"
   },
   "outputs": [],
   "source": [
    "print(\"Hello world\")"
   ]
  },
  {
   "cell_type": "code",
   "execution_count": null,
   "id": "7ede6dc9",
   "metadata": {
    "colab": {
     "base_uri": "https://localhost:8080/"
    },
    "id": "yr1HHn8aMxdA",
    "outputId": "f427be02-cf08-413b-e44c-08633a32278f"
   },
   "outputs": [],
   "source": [
    "a = 9 \n",
    "b = 3\n",
    "print(\"square of\" ,b,\"is\",a)\n",
    "print(f\"square of {b} is {a}\") #These are called fstrings\n",
    "\n",
    "#Lines of code that are green(followed by #) are ignored by the interpreter.\n",
    "#These are called comments and they are used to improve the readablity of code\n"
   ]
  },
  {
   "cell_type": "markdown",
   "id": "8b5920a8",
   "metadata": {
    "id": "ZiDmSlR2P3Dv"
   },
   "source": [
    "# Data types"
   ]
  },
  {
   "cell_type": "code",
   "execution_count": null,
   "id": "672cb7cd",
   "metadata": {
    "colab": {
     "base_uri": "https://localhost:8080/"
    },
    "id": "NBj1NhtPP75e",
    "outputId": "6add5532-c69e-4046-b0d6-0e046c5d543b"
   },
   "outputs": [],
   "source": [
    "x = 10 \n",
    "name = \"Student\"\n",
    "is_it_raining = True\n",
    "\n",
    "print(x)\n",
    "print(name)\n",
    "print(is_it_raining)\n",
    "\n",
    "print(type(x))\n",
    "print(type(name))\n",
    "print(type(is_it_raining))"
   ]
  },
  {
   "cell_type": "markdown",
   "id": "0d0e8902",
   "metadata": {
    "id": "TofiGafKP_zs"
   },
   "source": [
    "As you can see Python automatically detects data type of the variable unlike the other programming languages."
   ]
  },
  {
   "cell_type": "markdown",
   "id": "8f9f6e3e",
   "metadata": {
    "id": "2tYSX0TGUwXp"
   },
   "source": [
    "## Operators\n",
    "Operators perfom processes on variables and constants. The different kinds of operators can be understood through examples.\n",
    "\n",
    "### Arithmetic Operators\n",
    "\n",
    "\n",
    "1. Addition (+)\n",
    "2. Subtraction (-)\n",
    "3. Multiplication (*)\n",
    "4. Division (/)\n",
    "5. Modulus(%)\n",
    "6. Exponent(**)\n"
   ]
  },
  {
   "cell_type": "code",
   "execution_count": null,
   "id": "26a1e985",
   "metadata": {
    "colab": {
     "base_uri": "https://localhost:8080/"
    },
    "id": "UZ1BTvDVc5CJ",
    "outputId": "134c1859-5b60-4abe-b4ab-704d0b31d0fb"
   },
   "outputs": [],
   "source": [
    "a = 5\n",
    "b = 6\n",
    "\n",
    "# operations in order\n",
    "\n",
    "print('a + b = ', a + b)\n",
    "print('b - 2 = ', b - 2)\n",
    "print('a*4 =', a * 4)\n",
    "print('b/3 = ', b/3)\n",
    "print('a % b = ', a%b)\n",
    "print('a^2 = ', a**2 )"
   ]
  },
  {
   "cell_type": "markdown",
   "id": "80561a61",
   "metadata": {
    "id": "7MsE5Hgpc7SJ"
   },
   "source": [
    "### Comparison Operators\n",
    "\n",
    "\n",
    "1.    Check equality (== )\n",
    "2.    Check inequality(!= or <>)\n",
    "3.    Greater than (>)\n",
    "4.    Less than(<)\n",
    "5.    Greater than or equal to (>=)\n",
    "6.    Less than or equal to (<=)\n",
    "\n",
    "When used in expressions,  the truth value of the expression returned."
   ]
  },
  {
   "cell_type": "code",
   "execution_count": null,
   "id": "3f0cfc66",
   "metadata": {
    "colab": {
     "base_uri": "https://localhost:8080/"
    },
    "id": "XDIJl6zKdCRA",
    "outputId": "14d52771-7070-4973-fe65-51bc293c25d8"
   },
   "outputs": [],
   "source": [
    "a = 5\n",
    "b = 6\n",
    "\n",
    "#operations in order\n",
    "\n",
    "print(a==b)\n",
    "print(b!=2)\n",
    "print(a>4)\n",
    "print(b<3)\n",
    "print(a>=b)\n",
    "print(a<=2)\n",
    "print(type(a==b))"
   ]
  },
  {
   "cell_type": "markdown",
   "id": "5b0c98a3",
   "metadata": {
    "id": "nvIBcPDTdIwj"
   },
   "source": [
    "###Logical Operators\n",
    "\n",
    "\n",
    "\n",
    "1.  and\n",
    "2.  or\n",
    "3.  not\n",
    "\n",
    "When used in expressions, the truth value of the expression returned."
   ]
  },
  {
   "cell_type": "code",
   "execution_count": null,
   "id": "2d662b9f",
   "metadata": {
    "colab": {
     "base_uri": "https://localhost:8080/"
    },
    "id": "3O8nyD97dOh9",
    "outputId": "605c4ec7-c1fa-4e4e-ec6e-d7120d3b835c"
   },
   "outputs": [],
   "source": [
    "a = 5\n",
    "b = 6\n",
    "print(a<b or a==b)\n",
    "print(a<b and (a+b)==11)\n",
    "print(not a<b)"
   ]
  },
  {
   "cell_type": "markdown",
   "id": "22a85858",
   "metadata": {
    "id": "p1QtQ4I1hZQa"
   },
   "source": [
    "## Conditional Statements\n",
    "\n",
    "Conditional Statements are used in decision making."
   ]
  },
  {
   "cell_type": "code",
   "execution_count": null,
   "id": "7d545838",
   "metadata": {
    "colab": {
     "base_uri": "https://localhost:8080/"
    },
    "id": "zNqr08V-hltM",
    "outputId": "20079198-c1d6-4999-bd9d-bf96a8c5760d"
   },
   "outputs": [],
   "source": [
    "Is_it_raining = False\n",
    "if(Is_it_raining):                                            #if(condition):\n",
    "    print(\"Oh no , I cant play football now\")                      #statement \n",
    "else:                                                         #elif(condition):\n",
    "    print(\"Let's play football\")                                #statement\n",
    "                                                              #else:\n",
    "                                                                 #statement"
   ]
  },
  {
   "cell_type": "code",
   "execution_count": null,
   "id": "0c6b3c57",
   "metadata": {
    "colab": {
     "base_uri": "https://localhost:8080/"
    },
    "id": "98yCrrVGhs22",
    "outputId": "46a41e7f-9394-4cbd-d713-3312551926f4"
   },
   "outputs": [],
   "source": [
    "Summer = True\n",
    "Winter = True\n",
    "Rainy = False\n",
    "\n",
    "if(Summer):\n",
    "  print(\"Lets eat ice cream!\")\n",
    "elif(Winter):\n",
    "  print(\"Lets play with snow!\")\n",
    "elif(Rainy):\n",
    "  print(\"Lets drink Chai!\")\n",
    "else:\n",
    "  print(\"Lets just go and study:/\")"
   ]
  },
  {
   "cell_type": "markdown",
   "id": "6e9cb957",
   "metadata": {
    "id": "HqFEZ3A8qlS2"
   },
   "source": [
    "## Loops\n",
    "\n",
    "Let's look at two programs with the same output:\n",
    "\n",
    "\n"
   ]
  },
  {
   "cell_type": "code",
   "execution_count": null,
   "id": "4fbbf1ee",
   "metadata": {
    "colab": {
     "base_uri": "https://localhost:8080/"
    },
    "id": "Aw66KJVdwQC3",
    "outputId": "60589748-4b6d-4abe-bd25-845b10646f71"
   },
   "outputs": [],
   "source": [
    "print('welcome to summer school')\n",
    "print('welcome to summer school')\n",
    "print('welcome to summer school')\n",
    "print('welcome to summer school')\n",
    "print('welcome to summer school')\n",
    "print('welcome to summer school')\n",
    "print('welcome to summer school')"
   ]
  },
  {
   "cell_type": "code",
   "execution_count": null,
   "id": "30c32131",
   "metadata": {
    "colab": {
     "base_uri": "https://localhost:8080/"
    },
    "id": "UGGEpbCVwQ2T",
    "outputId": "3a9baad4-773d-4a55-9288-d6626a8a86c8"
   },
   "outputs": [],
   "source": [
    "t = 0   \n",
    "while( t < 10):                          #while(condition):\n",
    "                                           #statement \n",
    "    print(\"welcome to summer school\" ,end = \"\\n\")\n",
    "    t = t + 1       #incrementing t"
   ]
  },
  {
   "cell_type": "code",
   "execution_count": null,
   "id": "7a4da1cf",
   "metadata": {
    "colab": {
     "base_uri": "https://localhost:8080/"
    },
    "id": "cByqLFlfzNCK",
    "outputId": "868a4fe0-922a-4d8d-9313-479c893af738"
   },
   "outputs": [],
   "source": [
    "for i in range(5,0,-1): #(initial value , final value(excluded),increment)\n",
    "\tprint(i)"
   ]
  },
  {
   "cell_type": "markdown",
   "id": "acf70250",
   "metadata": {
    "id": "qXMKQf7j3WRO"
   },
   "source": [
    "## Nested Loops\n",
    "Loops within loops"
   ]
  },
  {
   "cell_type": "code",
   "execution_count": null,
   "id": "bd456e68",
   "metadata": {
    "colab": {
     "base_uri": "https://localhost:8080/"
    },
    "id": "9FWaMDxy6yvr",
    "outputId": "6778a4dd-c81d-4e50-9299-cb4cab6214e5"
   },
   "outputs": [],
   "source": [
    "x = 4\n",
    "for i in range(1, x + 1):    #(1,5)\n",
    "  for j in range(1, i + 1):  \n",
    "    print(j, end = '')\n",
    "  print('')"
   ]
  },
  {
   "cell_type": "markdown",
   "id": "d8b5358c",
   "metadata": {
    "id": "KsY0Mi17mS8u"
   },
   "source": [
    "## Functions\n",
    "\n",
    "* Functions are modules of code that accomplish a specific task. \n",
    "* A function executes only when it is called.\n",
    "* Functions usually take inputs (data), process it, and output (or return) result. Once a function is written, it can be used over and over again."
   ]
  },
  {
   "cell_type": "code",
   "execution_count": null,
   "id": "bfc16746",
   "metadata": {
    "colab": {
     "base_uri": "https://localhost:8080/"
    },
    "id": "GIYdmEiPycJU",
    "outputId": "cff1f9d3-8dda-4be3-f5b3-50e23083626f"
   },
   "outputs": [],
   "source": [
    "# example function\n",
    "def add_nums(a, b):\n",
    "  return a+b\n",
    "\n",
    "add_nums(2,3)\n",
    "print(add_nums(2,3)) #function call inside the print statement and even print is a function call"
   ]
  },
  {
   "cell_type": "markdown",
   "id": "57ca00b0",
   "metadata": {
    "id": "yA5S2zJc8Zfl"
   },
   "source": [
    "Here a and b are the parameters and the inputs that we provided (i.e 2,3) while calling the function are the arguments."
   ]
  },
  {
   "cell_type": "markdown",
   "id": "efc91e97",
   "metadata": {
    "id": "e2WyxsJ-BRge"
   },
   "source": [
    "This is block of code is same as the one below"
   ]
  },
  {
   "cell_type": "code",
   "execution_count": null,
   "id": "7293c660",
   "metadata": {
    "id": "61laRT8CBQc1"
   },
   "outputs": [],
   "source": [
    "a = 2\n",
    "b = 3\n",
    "print(a + b)"
   ]
  },
  {
   "cell_type": "markdown",
   "id": "88ef1a18",
   "metadata": {
    "id": "-0O3s3FQBEqI"
   },
   "source": [
    "Why do we need functions in the first place?\n",
    "Let's say you want to check if a number is even or odd "
   ]
  },
  {
   "cell_type": "code",
   "execution_count": null,
   "id": "c05838a7",
   "metadata": {
    "id": "XlTKH-fhBDl1"
   },
   "outputs": [],
   "source": [
    "def odd_even(num):\n",
    "  if num % 2 == 0:\n",
    "    return 'Even'\n",
    "  else:\n",
    "    return 'Odd'"
   ]
  },
  {
   "cell_type": "code",
   "execution_count": null,
   "id": "a2ce4cd3",
   "metadata": {
    "colab": {
     "base_uri": "https://localhost:8080/"
    },
    "id": "lUXNVVvb8jao",
    "outputId": "4ebc7d73-021f-4fcf-9739-ea149ed8a0a6"
   },
   "outputs": [],
   "source": [
    "print(odd_even(4)) \n",
    "print(odd_even(6))\n",
    "print(odd_even(5))"
   ]
  },
  {
   "cell_type": "markdown",
   "id": "3c9a80de",
   "metadata": {
    "id": "iGXA7p8WD-xs"
   },
   "source": [
    "without functions:\n"
   ]
  },
  {
   "cell_type": "code",
   "execution_count": null,
   "id": "b68d7f40",
   "metadata": {
    "colab": {
     "base_uri": "https://localhost:8080/"
    },
    "id": "mjI0mkw4EDU2",
    "outputId": "0d34b867-5589-4e71-dce0-c4da89ee27f5"
   },
   "outputs": [],
   "source": [
    "num = 4\n",
    "if num % 2 == 0:\n",
    "    print('Even')\n",
    "else:\n",
    "    print('Odd')\n",
    "\n",
    "num = 6\n",
    "if num % 2 == 0:\n",
    "    print('Even')\n",
    "else:\n",
    "    print('Odd')\n",
    "\n",
    "num = 5\n",
    "if num % 2 == 0:\n",
    "    print('Even')\n",
    "else:\n",
    "    print('Odd')"
   ]
  },
  {
   "cell_type": "code",
   "execution_count": null,
   "id": "1c21dc84",
   "metadata": {},
   "outputs": [],
   "source": [
    "# print() \n",
    "\n",
    "The print() function prints the specified message to the screen.\n",
    "\n",
    "print(\"Hello world\")\n",
    "\n",
    "a = 9 \n",
    "b = 3\n",
    "print(\"square of\" ,b,\"is\",a)\n",
    "print(f\"square of {b} is {a}\") #These are called fstrings\n",
    "\n",
    "#Lines of code that are green(followed by #) are ignored by the interpreter.\n",
    "#These are called comments and they are used to improve the readablity of code\n",
    "\n",
    "\n",
    "# Data types\n",
    "\n",
    "x = 10 \n",
    "name = \"Student\"\n",
    "is_it_raining = True\n",
    "\n",
    "print(x)\n",
    "print(name)\n",
    "print(is_it_raining)\n",
    "\n",
    "print(type(x))\n",
    "print(type(name))\n",
    "print(type(is_it_raining))\n",
    "\n",
    "As you can see Python automatically detects data type of the variable unlike the other programming languages.\n",
    "\n",
    "## Operators\n",
    "Operators perfom processes on variables and constants. The different kinds of operators can be understood through examples.\n",
    "\n",
    "### Arithmetic Operators\n",
    "\n",
    "\n",
    "1. Addition (+)\n",
    "2. Subtraction (-)\n",
    "3. Multiplication (*)\n",
    "4. Division (/)\n",
    "5. Modulus(%)\n",
    "6. Exponent(**)\n",
    "\n",
    "\n",
    "a = 5\n",
    "b = 6\n",
    "\n",
    "# operations in order\n",
    "\n",
    "print('a + b = ', a + b)\n",
    "print('b - 2 = ', b - 2)\n",
    "print('a*4 =', a * 4)\n",
    "print('b/3 = ', b/3)\n",
    "print('a % b = ', a%b)\n",
    "print('a^2 = ', a**2 )\n",
    "\n",
    "### Comparison Operators\n",
    "\n",
    "\n",
    "1.    Check equality (== )\n",
    "2.    Check inequality(!= or <>)\n",
    "3.    Greater than (>)\n",
    "4.    Less than(<)\n",
    "5.    Greater than or equal to (>=)\n",
    "6.    Less than or equal to (<=)\n",
    "\n",
    "When used in expressions,  the truth value of the expression returned.\n",
    "\n",
    "a = 5\n",
    "b = 6\n",
    "\n",
    "#operations in order\n",
    "\n",
    "print(a==b)\n",
    "print(b!=2)\n",
    "print(a>4)\n",
    "print(b<3)\n",
    "print(a>=b)\n",
    "print(a<=2)\n",
    "print(type(a==b))\n",
    "\n",
    "###Logical Operators\n",
    "\n",
    "\n",
    "\n",
    "1.  and\n",
    "2.  or\n",
    "3.  not\n",
    "\n",
    "When used in expressions, the truth value of the expression returned.\n",
    "\n",
    "a = 5\n",
    "b = 6\n",
    "print(a<b or a==b)\n",
    "print(a<b and (a+b)==11)\n",
    "print(not a<b)\n",
    "\n",
    "## Conditional Statements\n",
    "\n",
    "Conditional Statements are used in decision making.\n",
    "\n",
    "Is_it_raining = False\n",
    "if(Is_it_raining):                                            #if(condition):\n",
    "    print(\"Oh no , I cant play football now\")                      #statement \n",
    "else:                                                         #elif(condition):\n",
    "    print(\"Let's play football\")                                #statement\n",
    "                                                              #else:\n",
    "                                                                 #statement\n",
    "\n",
    "Summer = True\n",
    "Winter = True\n",
    "Rainy = False\n",
    "\n",
    "if(Summer):\n",
    "  print(\"Lets eat ice cream!\")\n",
    "elif(Winter):\n",
    "  print(\"Lets play with snow!\")\n",
    "elif(Rainy):\n",
    "  print(\"Lets drink Chai!\")\n",
    "else:\n",
    "  print(\"Lets just go and study:/\")\n",
    "\n",
    "## Loops\n",
    "\n",
    "Let's look at two programs with the same output:\n",
    "\n",
    "\n",
    "\n",
    "\n",
    "print('welcome to summer school')\n",
    "print('welcome to summer school')\n",
    "print('welcome to summer school')\n",
    "print('welcome to summer school')\n",
    "print('welcome to summer school')\n",
    "print('welcome to summer school')\n",
    "print('welcome to summer school')\n",
    "\n",
    "t = 0   \n",
    "while( t < 10):                          #while(condition):\n",
    "                                           #statement \n",
    "    print(\"welcome to summer school\" ,end = \"\\n\")\n",
    "    t = t + 1       #incrementing t\n",
    "\n",
    "for i in range(5,0,-1): #(initial value , final value(excluded),increment)\n",
    "\tprint(i)\n",
    "\n",
    "## Nested Loops\n",
    "Loops within loops\n",
    "\n",
    "x = 4\n",
    "for i in range(1, x + 1):    #(1,5)\n",
    "  for j in range(1, i + 1):  \n",
    "    print(j, end = '')\n",
    "  print('')\n",
    "\n",
    "## Functions\n",
    "\n",
    "* Functions are modules of code that accomplish a specific task. \n",
    "* A function executes only when it is called.\n",
    "* Functions usually take inputs (data), process it, and output (or return) result. Once a function is written, it can be used over and over again.\n",
    "\n",
    "# example function\n",
    "def add_nums(a, b):\n",
    "  return a+b\n",
    "\n",
    "add_nums(2,3)\n",
    "print(add_nums(2,3)) #function call inside the print statement and even print is a function call\n",
    "\n",
    "Here a and b are the parameters and the inputs that we provided (i.e 2,3) while calling the function are the arguments.\n",
    "\n",
    "This is block of code is same as the one below\n",
    "\n",
    "a = 2\n",
    "b = 3\n",
    "print(a + b)\n",
    "\n",
    "Why do we need functions in the first place?\n",
    "Let's say you want to check if a number is even or odd \n",
    "\n",
    "def odd_even(num):\n",
    "  if num % 2 == 0:\n",
    "    return 'Even'\n",
    "  else:\n",
    "    return 'Odd'\n",
    "\n",
    "print(odd_even(4)) \n",
    "print(odd_even(6))\n",
    "print(odd_even(5))\n",
    "\n",
    "without functions:\n",
    "\n",
    "\n",
    "num = 4\n",
    "if num % 2 == 0:\n",
    "    print('Even')\n",
    "else:\n",
    "    print('Odd')\n",
    "\n",
    "num = 6\n",
    "if num % 2 == 0:\n",
    "    print('Even')\n",
    "else:\n",
    "    print('Odd')\n",
    "\n",
    "num = 5\n",
    "if num % 2 == 0:\n",
    "    print('Even')\n",
    "else:\n",
    "    print('Odd')"
   ]
  }
 ],
 "metadata": {
  "kernelspec": {
   "display_name": "Python 3 (ipykernel)",
   "language": "python",
   "name": "python3"
  },
  "language_info": {
   "codemirror_mode": {
    "name": "ipython",
    "version": 3
   },
   "file_extension": ".py",
   "mimetype": "text/x-python",
   "name": "python",
   "nbconvert_exporter": "python",
   "pygments_lexer": "ipython3",
   "version": "3.10.9"
  }
 },
 "nbformat": 4,
 "nbformat_minor": 5
}
