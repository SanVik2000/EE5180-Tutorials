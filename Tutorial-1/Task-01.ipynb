{
 "cells": [
  {
   "cell_type": "markdown",
   "metadata": {},
   "source": [
    "## Task: 01 \n",
    "\n",
    "Let us consider the task of developing a linear model as follows:\n",
    "\n",
    "Linear model: $y=w*x$\n",
    "\n",
    "* In this task, you will create a linear model for given `x_data` and `y_data` (Supervised Learning). \n",
    "* The main goal of this task is to make you familiar with python and provde a hands-on expereince.\n",
    "* You have to create functions definitions for the forward-pass and loss-function and write a code snippet to find the optimal value of $w$\n",
    "* Eventually we also plot the value of `w` against the difference in the prediction and actual value.  "
   ]
  },
  {
   "cell_type": "code",
   "execution_count": null,
   "metadata": {},
   "outputs": [],
   "source": [
    "#First let us import necessary libraries\n",
    "import numpy as np\n",
    "import matplotlib.pyplot as plt"
   ]
  },
  {
   "cell_type": "markdown",
   "metadata": {},
   "source": [
    "Let us make use of a randomly-created sample dataset"
   ]
  },
  {
   "cell_type": "code",
   "execution_count": null,
   "metadata": {},
   "outputs": [],
   "source": [
    "#sample-dataset\n",
    "x_data = [1.0, 2.0, 3.0]\n",
    "y_data = [2.0, 4.0, 6.0]"
   ]
  },
  {
   "cell_type": "markdown",
   "metadata": {},
   "source": [
    "## Task: 01 - a\n",
    "Implement the forward and loss functions"
   ]
  },
  {
   "cell_type": "code",
   "execution_count": null,
   "metadata": {},
   "outputs": [],
   "source": [
    "#forward function to calculate y_pred for a given x according to the linear model defined above\n",
    "def forward(x):\n",
    "    #implement the forward model to compute y_pred as w*x\n",
    "    ## YOUR CODE STARTS HERE\n",
    "\n",
    "\n",
    "    ## YOUR CODE ENDS HERE\n",
    "\n",
    "#loss-function to compute the mean-squared error between y_pred and y_actual\n",
    "def loss(y_pred, y_actual):\n",
    "    #calculate the mean-squared-error between y_pred and y_actual\n",
    "    ## YOUR CODE STARTS HERE\n",
    "\n",
    "\n",
    "    ## YOUR CODE ENDS HERE"
   ]
  },
  {
   "cell_type": "markdown",
   "metadata": {},
   "source": [
    "## Task: 01 - b\n",
    "Compute the loss for different values of $w$ and identify the $w$ with minimum loss value"
   ]
  },
  {
   "cell_type": "code",
   "execution_count": null,
   "metadata": {
    "scrolled": false
   },
   "outputs": [],
   "source": [
    "#initialize wieght and loss lists to monitor\n",
    "weight_list=[]\n",
    "loss_list=[]\n",
    "\n",
    "for w in np.arange(0.0,4.1,0.1): # w can vary between 0 and 4 (both included) with a step-size of 0.1\n",
    "    print(\"\\nWeight : \", w)\n",
    "    total_loss=0 \n",
    "    count = 0\n",
    "    for x, y in zip (x_data, y_data):\n",
    "        #call the forward and loss functions to compute the loss value for the given data-point pair\n",
    "        ## YOUR CODE STARTS HERE\n",
    "        \n",
    "        ## YOUR CODE ENDS HERE\n",
    "        total_loss += current_loss\n",
    "        count += 1\n",
    "        \n",
    "    #calculate the average mse-loss across three samples in our dataset\n",
    "    ## YOUR CODE STARTS HERE\n",
    "\n",
    "\n",
    "    ## YOUR CODE ENDS HERE\n",
    "        \n",
    "    print(\"Average Mean Squared Error : \", avg_mse)\n",
    "    weight_list.append(w)\n",
    "    loss_list.append(avg_mse)"
   ]
  },
  {
   "cell_type": "markdown",
   "metadata": {},
   "source": [
    "## Visualize the logs"
   ]
  },
  {
   "cell_type": "code",
   "execution_count": null,
   "metadata": {},
   "outputs": [],
   "source": [
    "plt.plot(weight_list, loss_list)\n",
    "plt.ylabel('Loss')\n",
    "plt.xlabel('Weight (w)')\n",
    "plt.show()"
   ]
  }
 ],
 "metadata": {
  "kernelspec": {
   "display_name": "Python 3 (ipykernel)",
   "language": "python",
   "name": "python3"
  },
  "language_info": {
   "codemirror_mode": {
    "name": "ipython",
    "version": 3
   },
   "file_extension": ".py",
   "mimetype": "text/x-python",
   "name": "python",
   "nbconvert_exporter": "python",
   "pygments_lexer": "ipython3",
   "version": "3.10.9"
  }
 },
 "nbformat": 4,
 "nbformat_minor": 4
}
